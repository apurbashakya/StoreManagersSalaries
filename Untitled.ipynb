{
 "cells": [
  {
   "cell_type": "code",
   "execution_count": 1,
   "metadata": {},
   "outputs": [
    {
     "name": "stdout",
     "output_type": "stream",
     "text": [
      "Collecting package metadata (current_repodata.json): ...working... done\n",
      "Solving environment: ...working... done\n",
      "\n",
      "## Package Plan ##\n",
      "\n",
      "  environment location: C:\\Users\\User\\anaconda3\n",
      "\n",
      "  added / updated specs:\n",
      "    - selenium\n",
      "\n",
      "\n",
      "The following packages will be downloaded:\n",
      "\n",
      "    package                    |            build\n",
      "    ---------------------------|-----------------\n",
      "    conda-4.10.1               |   py38haa95532_1         2.9 MB\n",
      "    selenium-3.141.0           |py38h2bbff1b_1000         816 KB\n",
      "    ------------------------------------------------------------\n",
      "                                           Total:         3.7 MB\n",
      "\n",
      "The following NEW packages will be INSTALLED:\n",
      "\n",
      "  selenium           pkgs/main/win-64::selenium-3.141.0-py38h2bbff1b_1000\n",
      "\n",
      "The following packages will be UPDATED:\n",
      "\n",
      "\n",
      "Note: you may need to restart the kernel to use updated packages.  conda                                4.9.2-py38haa95532_0 --> 4.10.1-py38haa95532_1\n",
      "\n",
      "\n",
      "\n",
      "\n",
      "Downloading and Extracting Packages\n",
      "\n",
      "conda-4.10.1         | 2.9 MB    |            |   0% \n",
      "conda-4.10.1         | 2.9 MB    |            |   1% \n",
      "conda-4.10.1         | 2.9 MB    | 4          |   4% \n",
      "conda-4.10.1         | 2.9 MB    | #          |  10% \n",
      "conda-4.10.1         | 2.9 MB    | #3         |  13% \n",
      "conda-4.10.1         | 2.9 MB    | #7         |  18% \n",
      "conda-4.10.1         | 2.9 MB    | ##3        |  23% \n",
      "conda-4.10.1         | 2.9 MB    | ##7        |  27% \n",
      "conda-4.10.1         | 2.9 MB    | ###4       |  35% \n",
      "conda-4.10.1         | 2.9 MB    | ####       |  41% \n",
      "conda-4.10.1         | 2.9 MB    | ####6      |  47% \n",
      "conda-4.10.1         | 2.9 MB    | #####2     |  52% \n",
      "conda-4.10.1         | 2.9 MB    | #####7     |  57% \n",
      "conda-4.10.1         | 2.9 MB    | ######1    |  61% \n",
      "conda-4.10.1         | 2.9 MB    | ######6    |  67% \n",
      "conda-4.10.1         | 2.9 MB    | #######1   |  72% \n",
      "conda-4.10.1         | 2.9 MB    | #######7   |  78% \n",
      "conda-4.10.1         | 2.9 MB    | ########2  |  83% \n",
      "conda-4.10.1         | 2.9 MB    | ########7  |  87% \n",
      "conda-4.10.1         | 2.9 MB    | #########3 |  94% \n",
      "conda-4.10.1         | 2.9 MB    | ########## | 100% \n",
      "conda-4.10.1         | 2.9 MB    | ########## | 100% \n",
      "\n",
      "selenium-3.141.0     | 816 KB    |            |   0% \n",
      "selenium-3.141.0     | 816 KB    | 7          |   8% \n",
      "selenium-3.141.0     | 816 KB    | ##7        |  27% \n",
      "selenium-3.141.0     | 816 KB    | ####3      |  43% \n",
      "selenium-3.141.0     | 816 KB    | ######     |  61% \n",
      "selenium-3.141.0     | 816 KB    | #######8   |  78% \n",
      "selenium-3.141.0     | 816 KB    | #########2 |  92% \n",
      "selenium-3.141.0     | 816 KB    | ########## | 100% \n",
      "Preparing transaction: ...working... done\n",
      "Verifying transaction: ...working... done\n",
      "Executing transaction: ...working... done\n"
     ]
    }
   ],
   "source": [
    "\n"
   ]
  },
  {
   "cell_type": "code",
   "execution_count": null,
   "metadata": {},
   "outputs": [],
   "source": []
  }
 ],
 "metadata": {
  "kernelspec": {
   "display_name": "Python 3",
   "language": "python",
   "name": "python3"
  },
  "language_info": {
   "codemirror_mode": {
    "name": "ipython",
    "version": 3
   },
   "file_extension": ".py",
   "mimetype": "text/x-python",
   "name": "python",
   "nbconvert_exporter": "python",
   "pygments_lexer": "ipython3",
   "version": "3.8.5"
  }
 },
 "nbformat": 4,
 "nbformat_minor": 4
}
